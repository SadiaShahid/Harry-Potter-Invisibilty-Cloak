{
 "cells": [
  {
   "cell_type": "markdown",
   "metadata": {},
   "source": [
    "### click the background image"
   ]
  },
  {
   "cell_type": "code",
   "execution_count": 3,
   "metadata": {},
   "outputs": [],
   "source": [
    "import cv2\n",
    "\n",
    "cap=cv2.VideoCapture(0)\n",
    "#this is my webcam\n",
    "\n",
    "\n",
    "while cap.isOpened:\n",
    "    ret, back=cap.read() #reading the webcam ret->true if img capture in cap and back is the picture read from cap\n",
    "    if ret:\n",
    "        cv2.imshow(\"image\",back)\n",
    "        if cv2.waitKey(5)==ord('q'):\n",
    "            #save img\n",
    "            cv2.imwrite('image.jpg',back)\n",
    "            break\n",
    "cap.release()\n",
    "cv2.destroyAllWindows()"
   ]
  },
  {
   "cell_type": "markdown",
   "metadata": {},
   "source": [
    "### make the cloak"
   ]
  },
  {
   "cell_type": "code",
   "execution_count": 4,
   "metadata": {},
   "outputs": [],
   "source": [
    "import cv2\n",
    "import numpy as np\n",
    "\n",
    "cap=cv2.VideoCapture(0)\n",
    "back = cv2.imread('./image.jpg')\n",
    "\n",
    "while cap.isOpened:\n",
    "    ret, frame=cap.read() #reading the webcam ret->true if img capture in cap and back is the picture read from cap\n",
    "    if ret:\n",
    "        # how to convert rgb to hsv\n",
    "        hsv = cv2.cvtColor(frame, cv2.COLOR_BGR2HSV)\n",
    "        #cv2.imshow(\"hsv\",hsv)\n",
    "        #print(hsv)\n",
    "        #how to get hsv vaue?\n",
    "        #lower: hue-10,100,100 , higher:hue+10,255,255\n",
    "        #red = np.uint8([[[0,0,255]]]) #bgr value for red color\n",
    "        #hsv_red=cv2.cvtColor(red, cv2.COLOR_BGR2HSV) # get hsv value for red color\n",
    "        \n",
    "        #threshold the hsv value to get only red color\n",
    "        # lower boundary RED color range values; Hue (0 - 10)\n",
    "        l_red1=np.array([0, 100, 100])\n",
    "        u_red1=np.array([10, 255, 255])\n",
    "        # upper boundary RED color range values; Hue (160 - 180)\n",
    "        l_red2 = np.array([160,100,20])\n",
    "        u_red2 = np.array([179,255,255])\n",
    "        \n",
    "        #mask = cv2.inRange(hsv,l_red,u_red)\n",
    "        lower_mask = cv2.inRange(hsv, l_red1, u_red1)\n",
    "        upper_mask = cv2.inRange(hsv, l_red2, u_red2)\n",
    "        full_mask = lower_mask + upper_mask;\n",
    "        #print(mask)\n",
    "        #blue=cv2.bitwise_and(frame, frame, mask=mask)\n",
    "        #cv2.imshow(\"mask\",mask)\n",
    "        \n",
    "        #part 1 is all things that are red\n",
    "        part1 = cv2.bitwise_and(back,back,mask=full_mask)\n",
    "        #cv2.imshow('part1',part1)\n",
    "        \n",
    "        #part 2 is all things that are not red \n",
    "        not_mask = cv2.bitwise_not(full_mask)\n",
    "        part2 = cv2.bitwise_and(frame,frame,mask=not_mask)\n",
    "        #cv2.imshow(\"part2\",part2)\n",
    "        \n",
    "        cv2.imshow(\"cloak\",part1 + part2)\n",
    "        #result = part1+part2\n",
    "        #removing edges\n",
    "        #try out cv2 marphology\n",
    "        eddge=cv2.morphologyEx(full_mask,cv2.MORPH_OPEN,np.ones((5,5),np.uint8))\n",
    "        if cv2.waitKey(5)==ord('q'):\n",
    "            break\n",
    "cap.release()\n",
    "cv2.destroyAllWindows()"
   ]
  },
  {
   "cell_type": "code",
   "execution_count": null,
   "metadata": {},
   "outputs": [],
   "source": []
  },
  {
   "cell_type": "code",
   "execution_count": null,
   "metadata": {},
   "outputs": [],
   "source": []
  }
 ],
 "metadata": {
  "kernelspec": {
   "display_name": "Python 3",
   "language": "python",
   "name": "python3"
  },
  "language_info": {
   "codemirror_mode": {
    "name": "ipython",
    "version": 3
   },
   "file_extension": ".py",
   "mimetype": "text/x-python",
   "name": "python",
   "nbconvert_exporter": "python",
   "pygments_lexer": "ipython3",
   "version": "3.7.4"
  }
 },
 "nbformat": 4,
 "nbformat_minor": 2
}
